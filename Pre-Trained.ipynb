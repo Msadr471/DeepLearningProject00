{
 "cells": [
  {
   "cell_type": "code",
   "execution_count": 2,
   "metadata": {},
   "outputs": [],
   "source": [
    "# Import the necessary modules\n",
    "import math\n",
    "import torch\n",
    "import torch.nn as nn\n",
    "import torch.nn.functional as F\n",
    "import torch.optim as optim\n",
    "from torchvision import datasets, transforms\n",
    "from torch.utils.data import DataLoader\n",
    "import matplotlib.pyplot as plt\n",
    "from torchvision.models import resnet152, ResNet152_Weights\n",
    "import os"
   ]
  },
  {
   "cell_type": "code",
   "execution_count": null,
   "metadata": {},
   "outputs": [
    {
     "name": "stdout",
     "output_type": "stream",
     "text": [
      "GeForce 920MX\n"
     ]
    }
   ],
   "source": [
    "# Place the model on the GPU (if available)\n",
    "device = torch.device(\"cuda:0\" if torch.cuda.is_available() else \"cpu\")\n",
    "if device.type == 'cuda':\n",
    "    print(torch.cuda.get_device_name(device))\n",
    "else:\n",
    "    print(device)"
   ]
  },
  {
   "cell_type": "code",
   "execution_count": null,
   "metadata": {},
   "outputs": [],
   "source": []
  },
  {
   "cell_type": "code",
   "execution_count": null,
   "metadata": {},
   "outputs": [],
   "source": [
    "# Step 1: Initialize model with the best available weights\n",
    "weights = ResNet152_Weights.IMAGENET1K_V2\n",
    "model = resnet152(weights=weights)"
   ]
  },
  {
   "cell_type": "code",
   "execution_count": null,
   "metadata": {},
   "outputs": [
    {
     "name": "stdout",
     "output_type": "stream",
     "text": [
      "Model weights are on the GPU\n",
      "cuda\n"
     ]
    }
   ],
   "source": [
    "# send your model weights to the GPU\n",
    "if torch.cuda.is_available():\n",
    "    model.cuda()\n",
    "    model.to(torch.device('cuda'))\n",
    "    print (\"Model weights are on the GPU\")\n",
    "\n",
    "# Check if CUDA is available\n",
    "if torch.cuda.is_available():\n",
    "    # Use the GPU\n",
    "    device = torch.device(\"cuda\")\n",
    "    print (device)\n",
    "else:\n",
    "    # Use the CPU\n",
    "    device = torch.device(\"cpu\")\n",
    "    print (device)"
   ]
  },
  {
   "cell_type": "code",
   "execution_count": null,
   "metadata": {},
   "outputs": [],
   "source": [
    "# Define the loss function and the optimizer\n",
    "\n",
    "# Cross entropy loss function for multi-class classification\n",
    "criterion = nn.CrossEntropyLoss() \n",
    "# A Method for Stochastic Optimization\n",
    "optimizer = torch.optim.Adam(model.parameters(), lr=0.04)"
   ]
  },
  {
   "cell_type": "code",
   "execution_count": null,
   "metadata": {},
   "outputs": [
    {
     "name": "stdout",
     "output_type": "stream",
     "text": [
      "Files already downloaded and verified\n"
     ]
    }
   ],
   "source": [
    "# Define the file path to save the model\n",
    "# PATH = \"D:\\Mamad\\S.B.UK.AC.IR\\Docs\\M.Eng.in.ST\\Courses\\Deep.Learning\\HomeWorks\\HW03\\model.cifar10.pth\"\n",
    "# PATH = \"model.pth\"\n",
    "\n",
    "# Define the Directory path to save the Dataset\n",
    "PATH_DIR_DATA = \"D:\\Mamad\\S.B.UK.AC.IR\\Docs\\M.Eng.in.ST\\Courses\\Deep.Learning\\HomeWorks\\HW03\\data\\CIFAR10\"\n",
    "\n",
    "# Check if the file exists\n",
    "# if os.path.isfile(PATH):\n",
    "    # Load the saved model state dictionary\n",
    "#     model.load_state_dict(torch.load(PATH))\n",
    "#     print(\"Loaded model from:\", PATH)\n",
    "\n",
    "# else:\n",
    "#     print(\"No saved model found. Starting with a new model.\")\n",
    "\n",
    "# Define the transforms for pre-processing and data augmentation\n",
    "transform = transforms.Compose([\n",
    "    transforms.ToTensor(), # Convert the data into tensor\n",
    "    # transforms.RandomRotation(90), # Rotate the data randomly by 90 degrees\n",
    "    # transforms.Normalize((0,), (0.5,))\n",
    "])\n",
    "\n",
    "# Load the CIFAR10 dataset\n",
    "cifar10_data = datasets.CIFAR10(root=PATH_DIR_DATA, download=True, transform=transform)\n",
    "\n",
    "# Split the dataset into train, test and cross validation sets\n",
    "train_size = int(0.8 * len(cifar10_data)) # 80% of the data for training\n",
    "test_size = int(0.1 * len(cifar10_data)) # 10% of the data for testing\n",
    "val_size = len(cifar10_data) - train_size - test_size # 10% of the data for cross validation\n",
    "train_data, test_data, val_data = torch.utils.data.random_split(cifar10_data, [train_size, test_size, val_size])\n",
    "\n",
    "# Create data loaders for the train, validation and test sets\n",
    "train_loader = DataLoader(train_data, batch_size=32, shuffle=True) # Batch size of 64 and shuffle the data\n",
    "val_loader = DataLoader(val_data, batch_size=32, shuffle=False) # Batch size of 64 and do not shuffle the data\n",
    "test_loader = DataLoader(test_data, batch_size=32, shuffle=False) # Batch size of 64 and do not shuffle the data"
   ]
  },
  {
   "cell_type": "code",
   "execution_count": null,
   "metadata": {},
   "outputs": [
    {
     "name": "stdout",
     "output_type": "stream",
     "text": [
      "Test Loss: 58.0870, Test Accuracy: 0.0600%\n"
     ]
    }
   ],
   "source": [
    "# Set the model to evaluation mode\n",
    "model.eval()\n",
    "# Initialize the test loss and accuracy\n",
    "test_loss = 0.0\n",
    "test_acc = 0.0\n",
    "# Loop over the test batches\n",
    "with torch.no_grad(): # No need to track gradients for testing\n",
    "    for images, labels in test_loader:\n",
    "        # Move the data to the device \n",
    "        images = images.to(device)\n",
    "        labels = labels.to(device)\n",
    "        # Forward pass\n",
    "        outputs = model(images)\n",
    "        # Calculate the loss\n",
    "        loss = criterion(outputs, labels)\n",
    "        # Update the test loss and accuracy\n",
    "        test_loss += loss.item()\n",
    "        test_acc += (outputs.argmax(dim=1) == labels).sum().item()\n",
    "# Calculate the average test loss and accuracy\n",
    "test_loss = test_loss / len(test_loader)\n",
    "test_acc = test_acc / len(test_data)\n",
    "# Print the test statistics\n",
    "print(f'Test Loss: {test_loss:.4f}, Test Accuracy: {100*test_acc:.4f}%')\n"
   ]
  },
  {
   "cell_type": "code",
   "execution_count": null,
   "metadata": {},
   "outputs": [
    {
     "name": "stdout",
     "output_type": "stream",
     "text": [
      " Total Params: 60192808.0000, Trainable Params: 60192808.0000\n"
     ]
    }
   ],
   "source": [
    "# Get the total number of parameters\n",
    "total_params = sum(p.numel() for p in model.parameters())\n",
    "\n",
    "# Get the total number of trainable parameters\n",
    "trainable_params = sum(p.numel() for p in model.parameters() if p.requires_grad)\n",
    "\n",
    "# Print the total number and trainable parameters\n",
    "print(f' Total Params: {total_params:.4f}, Trainable Params: {trainable_params:.4f}') "
   ]
  },
  {
   "cell_type": "code",
   "execution_count": null,
   "metadata": {},
   "outputs": [
    {
     "ename": "ModuleNotFoundError",
     "evalue": "No module named 'matplotlib'",
     "output_type": "error",
     "traceback": [
      "\u001b[1;31m---------------------------------------------------------------------------\u001b[0m",
      "\u001b[1;31mModuleNotFoundError\u001b[0m                       Traceback (most recent call last)",
      "Cell \u001b[1;32mIn[30], line 1\u001b[0m\n\u001b[1;32m----> 1\u001b[0m \u001b[39mimport\u001b[39;00m \u001b[39mmatplotlib\u001b[39;00m\u001b[39m.\u001b[39;00m\u001b[39mpyplot\u001b[39;00m \u001b[39mas\u001b[39;00m \u001b[39mplt\u001b[39;00m\n\u001b[0;32m      3\u001b[0m classes \u001b[39m=\u001b[39m [\n\u001b[0;32m      4\u001b[0m     \u001b[39m\"\u001b[39m\u001b[39mairplane\u001b[39m\u001b[39m\"\u001b[39m,\n\u001b[0;32m      5\u001b[0m     \u001b[39m\"\u001b[39m\u001b[39mautomobile\u001b[39m\u001b[39m\"\u001b[39m,\n\u001b[1;32m   (...)\u001b[0m\n\u001b[0;32m     13\u001b[0m     \u001b[39m\"\u001b[39m\u001b[39mtruck\u001b[39m\u001b[39m\"\u001b[39m,\n\u001b[0;32m     14\u001b[0m ]\n\u001b[0;32m     16\u001b[0m model\u001b[39m.\u001b[39meval()\n",
      "\u001b[1;31mModuleNotFoundError\u001b[0m: No module named 'matplotlib'"
     ]
    }
   ],
   "source": [
    "classes = [\n",
    "    \"airplane\",\n",
    "    \"automobile\",\n",
    "    \"bird\",\n",
    "    \"cat\",\n",
    "    \"deer\",\n",
    "    \"dog\",\n",
    "    \"frog\",\n",
    "    \"horse\",\n",
    "    \"ship\",\n",
    "    \"truck\",\n",
    "]\n",
    "\n",
    "model.eval()\n",
    "num = 8\n",
    "images, labels = test_data[num][0], test_data[num][1]\n",
    "with torch.no_grad():\n",
    "    pred = model(images.unsqueeze(0))\n",
    "    predicted, actual = classes[pred[0].argmax(0)], classes[labels]\n",
    "    \n",
    "    # Plot the image\n",
    "    plt.imshow(images.permute(1, 2, 0))\n",
    "    plt.title(f'Predicted: \"{predicted}\", Actual: \"{actual}\"')\n",
    "    plt.show()\n"
   ]
  }
 ],
 "metadata": {
  "kernelspec": {
   "display_name": "Python 3",
   "language": "python",
   "name": "python3"
  },
  "language_info": {
   "codemirror_mode": {
    "name": "ipython",
    "version": 3
   },
   "file_extension": ".py",
   "mimetype": "text/x-python",
   "name": "python",
   "nbconvert_exporter": "python",
   "pygments_lexer": "ipython3",
   "version": "3.9.13"
  },
  "orig_nbformat": 4
 },
 "nbformat": 4,
 "nbformat_minor": 2
}
